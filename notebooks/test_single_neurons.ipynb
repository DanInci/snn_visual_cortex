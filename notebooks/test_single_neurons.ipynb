{
 "cells": [
  {
   "cell_type": "code",
   "execution_count": 1,
   "id": "d195efb2",
   "metadata": {},
   "outputs": [],
   "source": [
    "from brian2 import *\n",
    "from matplotlib import pyplot as plt\n",
    "\n",
    "%matplotlib inline\n",
    "seed(12345)"
   ]
  },
  {
   "cell_type": "code",
   "execution_count": 2,
   "id": "3753ec0e",
   "metadata": {},
   "outputs": [],
   "source": [
    "start_scope()\n",
    "\n",
    "################################################################################\n",
    "# Model parameters\n",
    "################################################################################\n",
    "### General parameters\n",
    "duration = 0.1*second  # Total simulation time\n",
    "sim_dt = 0.1*ms        # Integrator/sampling step\n",
    "\n",
    "N_sst = 4 # Number of SST neurons (inhibitory)\n",
    "N_pv = 4  # Number of PV neurons (inhibitory)\n",
    "N_cc = 4  # Number of CC neurons (excitatory)\n",
    "N_cs = 4  # Number of CS neurons (excitatory)\n",
    "\n",
    "### Neuron parameters\n",
    "tau_S   = 16*ms  # \n",
    "tau_D   =  7*ms  #\n",
    "tau_SST = 20*ms  #\n",
    "tau_PV  = 10*ms  #\n",
    "tau_E   =  5*ms  # Excitatory synaptic time constant\n",
    "tau_I   = 10*ms  # Inhibitory synaptic time constant\n",
    "\n",
    "C_S   = 370*pF\n",
    "C_D   = 170*pF\n",
    "C_SST = 100*pF\n",
    "C_PV  = 100*pF\n",
    "\n",
    "E_l  = -70*mV   # leak reversal potential\n",
    "E_e  =   0*mV   # Excitatory synaptic reversal potential\n",
    "E_i  = -80*mV   # Inhibitory synaptic reversal potential\n",
    "\n",
    "V_t  = -50*mV   # spiking threashold\n",
    "V_r  = E_l      # reset potential\n",
    "\n",
    "c_d = 2600 * pA  # back-propagates somatic spikes to to the dendrites\n",
    "g_s = 1300 * pA  # propagates dendritic regenerative activity to soma\n",
    "g_d = 1200 * pA  # propagates dendritic regenerative activity to denderites\n",
    "\n",
    "### Sigmoid function params\n",
    "E_d = -38*mV  # position control of threshold\n",
    "D_d =   6*mV  # sharpness control of threshold \n",
    "\n",
    "### Synapse parameters\n",
    "w_e = 0.05*nS  # Excitatory synaptic conductance\n",
    "w_i = 1.0*nS   # Inhibitory synaptic conductance\n",
    "\n",
    "\n",
    "### External Input\n",
    "g = 270*pA\n",
    "M = 1.05 \n",
    "I_ext_sst = [g for i in range(N_sst)]\n",
    "I_ext_pv = [g for i in range(N_sst)]\n",
    "I_ext_cs = [0 * pA for i in range(N_sst)]\n",
    "I_ext_cc = [0 * pA for i in range(N_sst)]\n",
    "# I_ext_sst = [g, g*M]    # external input SST\n",
    "# I_ext_pv = [g, g*M] # external input PV\n",
    "# I_ext_cs = [0*pA, 0*pA] # external input CS\n",
    "# I_ext_cc = [0*pA, 0*pA] # external input CC\n",
    "\n",
    "################################################################################"
   ]
  },
  {
   "cell_type": "code",
   "execution_count": 3,
   "id": "e31ded71",
   "metadata": {},
   "outputs": [],
   "source": [
    "eqs_sst_inh = '''\n",
    "    dv/dt = ((E_l-v)/tau_SST + I/C_SST) : volt (unless refractory)\n",
    "\n",
    "    dg_e/dt = -g_e/tau_E : siemens\n",
    "    dg_i/dt = -g_i/tau_I : siemens\n",
    "\n",
    "    I = I_external + I_syn : amp\n",
    "    I_syn = g_e*(E_e - v) + g_i*(E_i - v) : amp\n",
    "    I_external : amp\n",
    "'''\n",
    "\n",
    "eqs_pv_inh = '''\n",
    "    dv/dt = ((E_l-v)/tau_PV + I/C_PV) : volt (unless refractory)\n",
    "\n",
    "    dg_e/dt = -g_e/tau_E : siemens\n",
    "    dg_i/dt = -g_i/tau_I : siemens\n",
    "\n",
    "    I = I_external + I_syn : amp\n",
    "    I_syn = g_e*(E_e - v) + g_i*(E_i - v) : amp\n",
    "    I_external : amp\n",
    "'''\n",
    "\n",
    "eqs_exc = '''\n",
    "    dv_s/dt = ((E_l-v_s)/tau_S + (g_s*(1/(1+exp(-(v_d-E_d)/D_d))) + I_s)/C_S) : volt (unless refractory)\n",
    "\n",
    "    dg_es/dt = -g_es/tau_E : siemens\n",
    "    dg_is/dt = -g_is/tau_I : siemens\n",
    "\n",
    "    I_s = I_external + I_syn_s : amp\n",
    "    I_syn_s = g_es*(E_e - v_s) + g_is*(E_i - v_s) : amp\n",
    "    I_external : amp\n",
    "\n",
    "    dv_d/dt = ((E_l-v_d)/tau_D + (g_d*(1/(1+exp(-(v_d-E_d)/D_d))) + c_d*K + I_d)/C_D) : volt\n",
    "\n",
    "    dg_ed/dt = -g_ed/tau_E : siemens\n",
    "    dg_id/dt = -g_id/tau_I : siemens\n",
    "\n",
    "    I_d = I_syn_d : amp\n",
    "    I_syn_d = g_ed*(E_e - v_d) + g_id*(E_i - v_d) : amp\n",
    "    K : 1\n",
    "'''"
   ]
  },
  {
   "cell_type": "code",
   "execution_count": 4,
   "id": "8316df19",
   "metadata": {},
   "outputs": [
    {
     "name": "stderr",
     "output_type": "stream",
     "text": [
      "WARNING    Removing unsupported flag '-march=native' from compiler flags. [brian2.codegen.cpp_prefs]\n"
     ]
    }
   ],
   "source": [
    "# One CC neuron test\n",
    "test_cc = NeuronGroup(1, model=eqs_exc, threshold='v_s > 50*mV',\n",
    "                             reset='v_s = E_l', refractory=8.3 * ms, method='euler')\n",
    "test_cc.set_states({'I_external': 0*pA})\n",
    "test_cc.v_s = 'E_l + rand()*(V_t-E_l)'\n",
    "test_cc.v_d = -70 * mV\n",
    "test_cc.g_es = test_cc.g_ed = 'rand()*w_e'\n",
    "test_cc.g_is = test_cc.g_id = 'rand()*w_i'\n",
    "test_cc.K = 1\n",
    "\n",
    "backprop_CC = Synapses(test_cc, test_cc, on_pre={'up': 'K += 1', 'down': 'K -=1'},\n",
    "                           delay={'up': 0.5 * ms, 'down': 2 * ms}, name='backprop_CC')\n",
    "backprop_CC.connect(condition='i==j')  # Connect all CC neurons to themselves\n"
   ]
  },
  {
   "cell_type": "code",
   "execution_count": 5,
   "id": "85d6c1ce",
   "metadata": {},
   "outputs": [],
   "source": [
    "spike_mon_cc = SpikeMonitor(test_cc)\n",
    "state_mon_cc = StateMonitor(test_cc, ['v_s', 'v_d', 'g_es', 'g_is', 'g_ed', 'g_id'], record=0)"
   ]
  },
  {
   "cell_type": "code",
   "execution_count": 6,
   "id": "c62a1753",
   "metadata": {},
   "outputs": [
    {
     "name": "stdout",
     "output_type": "stream",
     "text": [
      "Starting simulation at t=0. s for a duration of 100. ms\n",
      "100. ms (100%) simulated in < 1s\n"
     ]
    }
   ],
   "source": [
    "# ##############################################################################\n",
    "# # Simulation run\n",
    "# ##############################################################################\n",
    "\n",
    "defaultclock.dt = sim_dt\n",
    "\n",
    "run(duration, report='text')"
   ]
  },
  {
   "cell_type": "code",
   "execution_count": 7,
   "id": "794c794c",
   "metadata": {},
   "outputs": [
    {
     "name": "stdout",
     "output_type": "stream",
     "text": [
      "Spike times CC: [] s\n"
     ]
    },
    {
     "data": {
      "image/png": "[encoded data removed]",
      "text/plain": [
       "<Figure size 1296x288 with 2 Axes>"
      ]
     },
     "metadata": {
      "needs_background": "light"
     },
     "output_type": "display_data"
    }
   ],
   "source": [
    "# CC Neurons\n",
    "\n",
    "figure(figsize=(18, 4))\n",
    "subplot(1, 2, 1)\n",
    "plot(state_mon_cc.t / ms, state_mon_cc.v_s[0], label='v_s')\n",
    "plot(state_mon_cc.t / ms, state_mon_cc.v_d[0], label='v_d')\n",
    "for (t, i) in zip(spike_mon_cc.t, spike_mon_cc.i):\n",
    "    if i == 0:\n",
    "        axvline(t / ms, ls='--', c='C1', lw=1)\n",
    "axhline(V_t / mV / 1000, ls=':', c='C2', lw=3, label='spike thld')\n",
    "xlabel('Time (ms)')\n",
    "ylabel('membrane potential (V)')\n",
    "legend(loc='upper right')\n",
    "\n",
    "subplot(1, 2, 2)\n",
    "plot(state_mon_cc.t / ms, state_mon_cc.g_es[0], label='g_es')\n",
    "plot(state_mon_cc.t / ms, state_mon_cc.g_is[0], label='g_is')\n",
    "plot(state_mon_cc.t / ms, state_mon_cc.g_ed[0], label='g_ed')\n",
    "plot(state_mon_cc.t / ms, state_mon_cc.g_id[0], label='g_id')\n",
    "\n",
    "xlabel('Time (ms)')\n",
    "ylabel('Conductance (S)')\n",
    "legend(loc='best')\n",
    "\n",
    "print(\"Spike times CC: %s\" % spike_mon_cc.t[:])"
   ]
  },
  {
   "cell_type": "code",
   "execution_count": 8,
   "id": "f98c0314",
   "metadata": {},
   "outputs": [
    {
     "name": "stdout",
     "output_type": "stream",
     "text": [
      "(E_l-v_s)/tau_S: -3.5078856 m^2 kg s^-4 A^-1\n",
      "g_s*f(v_d): 1.3 nA\n",
      "I_s: -0.58986659 fA\n",
      "(g_s*f(v_d) + I_s)/C_S: 3.51351192 m^2 kg s^-4 A^-1\n",
      "dv_s/dt: 0.00562632 m^2 kg s^-4 A^-1\n",
      "v_s: -13.8738304 mV\n",
      "v_d: 86.46993238 mV\n"
     ]
    }
   ],
   "source": [
    "v_s = state_mon_cc.v_s[0][-1]\n",
    "v_d = state_mon_cc.v_d[0][-1]\n",
    "g_es = state_mon_cc.g_es[0][-1]\n",
    "g_is = state_mon_cc.g_is[0][-1]\n",
    "\n",
    "a = (E_l - v_s)/tau_S\n",
    "b = g_s * (1/(1+exp(-(v_d-E_d)/D_d)))\n",
    "c = 0 + g_es*(E_e - v_s) + g_is*(E_i - v_s)\n",
    "d = (b + c)/C_S\n",
    "\n",
    "print(f'(E_l-v_s)/tau_S: {a}')\n",
    "print(f'g_s*f(v_d): {b}')\n",
    "print(f'I_s: {c}')\n",
    "print(f'(g_s*f(v_d) + I_s)/C_S: {d}')\n",
    "print(f'dv_s/dt: {a+d}')\n",
    "print(f'v_s: {v_s}')\n",
    "print(f'v_d: {v_d}')"
   ]
  }
 ],
 "metadata": {
  "kernelspec": {
   "display_name": "Python 3 (ipykernel)",
   "language": "python",
   "name": "python3"
  },
  "language_info": {
   "codemirror_mode": {
    "name": "ipython",
    "version": 3
   },
   "file_extension": ".py",
   "mimetype": "text/x-python",
   "name": "python",
   "nbconvert_exporter": "python",
   "pygments_lexer": "ipython3",
   "version": "3.9.14"
  }
 },
 "nbformat": 4,
 "nbformat_minor": 5
}

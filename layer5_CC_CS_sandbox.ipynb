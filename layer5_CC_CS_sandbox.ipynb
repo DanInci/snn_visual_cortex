{
 "cells": [
  {
   "cell_type": "code",
   "execution_count": null,
   "id": "95788f7a",
   "metadata": {},
   "outputs": [],
   "source": [
    "import numpy as np\n",
    "from brian2 import *\n",
    "\n",
    "seed(12345)"
   ]
  },
  {
   "cell_type": "code",
   "execution_count": null,
   "id": "740d4ffd",
   "metadata": {},
   "outputs": [],
   "source": [
    "start_scope()\n",
    "\n",
    "################################################################################\n",
    "# Model parameters\n",
    "################################################################################\n",
    "### General parameters\n",
    "duration = 1.0*second  # Total simulation time\n",
    "sim_dt = 0.1*ms        # Integrator/sampling step\n",
    "N_sst = 2              # Number of SST neurons (inhibitory)\n",
    "N_pv = 2               # Number of PV neurons (inhibitory)\n",
    "N_cc = 2               # Number of CC neurons (excitatory)\n",
    "N_cs = 2               # Number of CS neurons (excitatory)\n",
    "\n",
    "### Neuron parameters\n",
    "tau_S = 16*ms\n",
    "tau_D = 7*ms\n",
    "tau_SST = 20*ms\n",
    "tau_PV = 10*ms\n",
    "\n",
    "C_S = 370*pF\n",
    "C_D = 170*pF\n",
    "C_SST = 100*pF\n",
    "C_PV  = 100*pF\n",
    "\n",
    "E_L  = -70*mV  # leak reversal potential\n",
    "V_t  = -50*mV  # spiking threashold\n",
    "V_r  = E_L     # reset potential\n",
    "c_d  = 2600*pA # \n",
    "g_s  = 1300*pA #\n",
    "g_d  = 1200*pA #\n",
    "\n",
    "\n",
    "g = 1*pA\n",
    "M = 1.05 \n",
    "I_ext_sst = [g, g*M] # external input SST\n",
    "I_ext_pv = [0*pA, 0*pA] # external input PV\n",
    "################################################################################"
   ]
  },
  {
   "cell_type": "code",
   "execution_count": null,
   "id": "73ea1cc4",
   "metadata": {},
   "outputs": [],
   "source": [
    "E_d = -38*mV # position control of threshold\n",
    "D_d =   6*mV # sharpness control of threshold \n",
    "\n",
    "def sigmoid(x):\n",
    "    return 1/(1+np.exp(-(-x-E_d)/D_d))"
   ]
  },
  {
   "cell_type": "code",
   "execution_count": null,
   "id": "b7dfea8a",
   "metadata": {},
   "outputs": [],
   "source": [
    "eqs_sst_inh = '''\n",
    "    dv/dt=(-(v-E_L)/tau_SST + I/C_SST) : volt (unless refractory)\n",
    "    I = I_external + I_syn : amp\n",
    "    I_external : amp\n",
    "    I_syn: amp\n",
    "'''\n",
    "\n",
    "eqs_pv_inh = '''\n",
    "    dv/dt=(-(v-E_L)/tau_PV + I/C_PV) : volt (unless refractory)\n",
    "    I = I_external + I_syn : amp\n",
    "    I_external : amp\n",
    "    I_syn : amp\n",
    "'''\n",
    "\n",
    "eqs_exc = '''\n",
    "    dv_s/dt = (-(v_s-E_L)/tau_S + (g_s*sigmoid(v_d) + I_s)/C_S) : volt (unless refractory)\n",
    "    I_s = I_external + I_syn_s : amp\n",
    "    I_external : amp\n",
    "    I_syn_s : amp\n",
    "    \n",
    "    dv_d/dt = (-(v_d-E_L)/tau_D + (g_d*sigmoid(v_d) + c_d*K + I_d)) : volt (unless refractory)\n",
    "    I_d = I_syn_d : amp\n",
    "    I_syn_d : amp\n",
    "    K : 1\n",
    "'''"
   ]
  },
  {
   "cell_type": "code",
   "execution_count": null,
   "id": "18f00a33",
   "metadata": {},
   "outputs": [],
   "source": [
    "# SST Neurons\n",
    "sst_neurons = NeuronGroup(N_sst, model=eqs_sst_inh, threshold='v > V_t',\n",
    "                          reset='v = E_L', refractory=5*ms, method='euler')\n",
    "sst_neurons.set_states({'I_external': I_ext_sst })\n",
    "sst_neurons.v = 'E_L + rand()*(V_t-E_L)'\n",
    "\n",
    "# PV Neurons\n",
    "pv_neurons = NeuronGroup(N_pv, model=eqs_pv_inh, threshold='v > V_t',\n",
    "                          reset='v = E_L', refractory=5*ms, method='euler')\n",
    "pv_neurons.set_states({'I_external': I_ext_pv })\n",
    "pv_neurons.v = 'E_L + rand()*(V_t-E_L)'\n",
    "\n",
    "# CS Neurons\n",
    "# cs_neurons = NeuronGroup(N_cs, model=eqs_exc, threshold='v_s > V_t',\n",
    "#                           reset='v_s = E_L', refractory=5*ms, method='euler')\n",
    "# cs_neurons.v_s = 'E_L + rand()*(V_t-E_L)'\n",
    "# cs_neurons.v_d = 'E_L + rand()*(V_t-E_L)'\n",
    "# cs_neurons.I_external = 0*pA\n",
    "# cs_neurons.I_syn_s = 0*pA\n",
    "\n",
    "# # CC Neurons\n",
    "# cc_neurons = NeuronGroup(N_cc, model=eqs_exc, threshold='v_s > V_t',\n",
    "#                           reset='v_s = E_L', refractory=5*ms, method='euler')\n",
    "# cc_neurons.v_s = 'E_L + rand()*(V_t-E_L)'\n",
    "# cc_neurons.v_d = 'E_L + rand()*(V_t-E_L)'"
   ]
  },
  {
   "cell_type": "code",
   "execution_count": null,
   "id": "48dc9828",
   "metadata": {},
   "outputs": [],
   "source": [
    "statemon = StateMonitor(sst_neurons, 'v', record=0)\n",
    "spikemon = SpikeMonitor(sst_neurons)"
   ]
  },
  {
   "cell_type": "code",
   "execution_count": null,
   "id": "e028d574",
   "metadata": {},
   "outputs": [],
   "source": [
    "run(1*ms)\n",
    "\n",
    "plot(statemon.t/ms, statemon.v[0])\n",
    "for t in spikemon.t:\n",
    "    axvline(t/ms, ls='--', c='C1', lw=3)\n",
    "xlabel('Time (ms)')\n",
    "ylabel('v');"
   ]
  },
  {
   "cell_type": "code",
   "execution_count": null,
   "id": "d92d65f5",
   "metadata": {},
   "outputs": [],
   "source": []
  },
  {
   "cell_type": "code",
   "execution_count": null,
   "id": "d8370208",
   "metadata": {},
   "outputs": [],
   "source": []
  }
 ],
 "metadata": {
  "kernelspec": {
   "display_name": "Python 3 (ipykernel)",
   "language": "python",
   "name": "python3"
  },
  "language_info": {
   "codemirror_mode": {
    "name": "ipython",
    "version": 3
   },
   "file_extension": ".py",
   "mimetype": "text/x-python",
   "name": "python",
   "nbconvert_exporter": "python",
   "pygments_lexer": "ipython3",
   "version": "3.9.14"
  }
 },
 "nbformat": 4,
 "nbformat_minor": 5
}
